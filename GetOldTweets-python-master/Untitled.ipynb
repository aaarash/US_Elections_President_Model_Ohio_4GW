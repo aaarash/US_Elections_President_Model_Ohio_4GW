{
 "cells": [
  {
   "cell_type": "code",
   "execution_count": 9,
   "metadata": {},
   "outputs": [
    {
     "name": "stdout",
     "output_type": "stream",
     "text": [
      "Collecting pyquery==1.2.10\n",
      "Requirement already satisfied: lxml>=2.1 in c:\\users\\tom\\anaconda3\\lib\\site-packages (from pyquery==1.2.10)\n",
      "Collecting cssselect>0.7.9 (from pyquery==1.2.10)\n",
      "  Using cached https://files.pythonhosted.org/packages/7b/44/25b7283e50585f0b4156960691d951b05d061abf4a714078393e51929b30/cssselect-1.0.3-py2.py3-none-any.whl\n",
      "Installing collected packages: cssselect, pyquery\n",
      "Successfully installed cssselect-1.0.3 pyquery-1.2.10\n"
     ]
    },
    {
     "name": "stderr",
     "output_type": "stream",
     "text": [
      "You are using pip version 9.0.1, however version 10.0.1 is available.\n",
      "You should consider upgrading via the 'python -m pip install --upgrade pip' command.\n"
     ]
    }
   ],
   "source": [
    "!pip install pyquery==1.2.10"
   ]
  },
  {
   "cell_type": "code",
   "execution_count": 16,
   "metadata": {},
   "outputs": [
    {
     "name": "stdout",
     "output_type": "stream",
     "text": [
      "### Example 3 - Get tweets by username and bound dates [barackobama, '2015-09-10', '2015-09-12']\n",
      "Username: \n",
      "Retweets: 3\n",
      "Text: The couple that votes together, stays together. #OHDEMS https:// twitter.com/lil_sako10/sta tus/774774788669763584 …\n",
      "Mentions: \n",
      "Hashtags: #OHDEMS\n",
      "\n"
     ]
    }
   ],
   "source": [
    "import sys\n",
    "if sys.version_info[0] < 3:\n",
    "    import got\n",
    "else:\n",
    "    import got3 as got\n",
    "\n",
    "def main():\n",
    "\n",
    "\tdef printTweet(descr, t):\n",
    "\t\tprint(descr)\n",
    "\t\tprint(\"Username: %s\" % t.username)\n",
    "\t\tprint(\"Retweets: %d\" % t.retweets)\n",
    "\t\tprint(\"Text: %s\" % t.text)\n",
    "\t\tprint(\"Mentions: %s\" % t.mentions)\n",
    "\t\tprint(\"Hashtags: %s\\n\" % t.hashtags)\n",
    "\n",
    "\n",
    "\t# Example 3 - Get tweets by username and bound dates\n",
    "\ttweetCriteria = got.manager.TweetCriteria().setUsername(\"ohdems\").setSince(\"2015-09-10\").setUntil(\"2016-09-12\").setMaxTweets(20)\n",
    "\ttweet = got.manager.TweetManager.getTweets(tweetCriteria)[0]\n",
    "\n",
    "\tprintTweet(\"### Example 3 - Get tweets by username and bound dates [barackobama, '2015-09-10', '2015-09-12']\", tweet)\n",
    "\n",
    "if __name__ == '__main__':\n",
    "\tmain()"
   ]
  }
 ],
 "metadata": {
  "kernelspec": {
   "display_name": "Python 3",
   "language": "python",
   "name": "python3"
  },
  "language_info": {
   "codemirror_mode": {
    "name": "ipython",
    "version": 3
   },
   "file_extension": ".py",
   "mimetype": "text/x-python",
   "name": "python",
   "nbconvert_exporter": "python",
   "pygments_lexer": "ipython3",
   "version": "3.6.4"
  }
 },
 "nbformat": 4,
 "nbformat_minor": 2
}
